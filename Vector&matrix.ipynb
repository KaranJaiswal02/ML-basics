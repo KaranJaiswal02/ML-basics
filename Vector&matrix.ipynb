{
 "cells": [
  {
   "cell_type": "code",
   "execution_count": 1,
   "id": "8cf09c16-fdc3-400f-b137-aa795d4db14e",
   "metadata": {},
   "outputs": [],
   "source": [
    "import numpy as np\n",
    "import matplotlib.pyplot as plt\n",
    "import seaborn as sns"
   ]
  },
  {
   "cell_type": "code",
   "execution_count": 5,
   "id": "f6536097-8f98-46d2-a5d1-04090b33074b",
   "metadata": {},
   "outputs": [],
   "source": [
    "sns.set()\n",
    "#this function is used to bring the grids in the graphs \n",
    "#during the vector implementation"
   ]
  },
  {
   "cell_type": "code",
   "execution_count": 10,
   "id": "c5e7e212-694c-4d0b-a443-6c43cbb3635f",
   "metadata": {},
   "outputs": [
    {
     "data": {
      "image/png": "[encoded data removed]",
      "text/plain": [
       "<Figure size 640x480 with 1 Axes>"
      ]
     },
     "metadata": {},
     "output_type": "display_data"
    }
   ],
   "source": [
    "plt.quiver(0,0,4,5)\n",
    "plt.show()\n",
    "#this quiver(means where are arrows are kept since vectors are the arrows) is used to plot \n",
    "#the vector and insides are the coordinates for its implementation."
   ]
  },
  {
   "cell_type": "code",
   "execution_count": 8,
   "id": "cc55452a-cc15-41e6-9fac-d1c4c62eea73",
   "metadata": {},
   "outputs": [
    {
     "data": {
      "image/png": "[encoded data removed]",
      "text/plain": [
       "<Figure size 640x480 with 1 Axes>"
      ]
     },
     "metadata": {},
     "output_type": "display_data"
    }
   ],
   "source": [
    "plt.quiver(0,0,4,5, scale_units='xy', angles='xy', scale=1,color='r')\n",
    "plt.quiver(0,0,-3,6, scale_units='xy', angles='xy', scale=1,color='b')\n",
    "plt.xlim(-8,8)\n",
    "plt.ylim(-8,8)\n",
    "plt.show()\n",
    "#these are the parameters which are used to set the vectors length and the \n",
    "#graph values "
   ]
  },
  {
   "cell_type": "code",
   "execution_count": null,
   "id": "a8cd53ed-ac10-47d4-b033-672120e39bf1",
   "metadata": {},
   "outputs": [],
   "source": [
    "#projection a vector\n",
    "# proj= (vector a.vector v/(magnitude of v)^2))vector v;"
   ]
  },
  {
   "cell_type": "code",
   "execution_count": 9,
   "id": "0faacd20-380e-430e-8df6-e62eec187611",
   "metadata": {},
   "outputs": [
    {
     "name": "stdout",
     "output_type": "stream",
     "text": [
      "20\n"
     ]
    }
   ],
   "source": [
    "#dot product of a vector\n",
    "\n",
    "vector_1 =np.array([2,3])\n",
    "\n",
    "vector_2 =np.array([4,4])\n",
    "\n",
    "result = np.dot(vector_1,vector_2)\n",
    "\n",
    "print(result)"
   ]
  },
  {
   "cell_type": "code",
   "execution_count": 10,
   "id": "6854f0e0-5c93-43d3-8372-90988fd1586a",
   "metadata": {},
   "outputs": [
    {
     "name": "stdout",
     "output_type": "stream",
     "text": [
      "[ 3  2 -4]\n"
     ]
    }
   ],
   "source": [
    "#cross product of a vector\n",
    "vector_1 =np.array([2,3,3])\n",
    "\n",
    "vector_2 =np.array([4,4,5])\n",
    "\n",
    "result = np.cross(vector_1,vector_2)\n",
    "\n",
    "print(result)"
   ]
  },
  {
   "cell_type": "code",
   "execution_count": 12,
   "id": "ca539f81-19a3-4458-9925-3b346276edee",
   "metadata": {},
   "outputs": [
    {
     "name": "stdout",
     "output_type": "stream",
     "text": [
      "[1.78461538 3.12307692]\n"
     ]
    }
   ],
   "source": [
    "#prjection of vector a on vector v\n",
    "\n",
    "a =np.array([2,3])\n",
    "\n",
    "v =np.array([4,7])\n",
    "\n",
    "mag_of_v=np.sqrt(sum(v**2))\n",
    "\n",
    "projection_of_a=(np.dot(a,v)/mag_of_v**2)*v\n",
    "\n",
    "print(projection_of_a)"
   ]
  },
  {
   "cell_type": "code",
   "execution_count": null,
   "id": "3e69a1d7-9fd7-4df7-9f83-9eb9b6978bac",
   "metadata": {},
   "outputs": [],
   "source": []
  },
  {
   "cell_type": "code",
   "execution_count": 2,
   "id": "a895bc7f-d294-43fc-b6e4-bdeb14a5df1c",
   "metadata": {},
   "outputs": [
    {
     "name": "stdout",
     "output_type": "stream",
     "text": [
      "[[0.59505422 0.11976781 0.78101043]\n",
      " [0.26148691 0.28358407 0.55183587]\n",
      " [0.46762144 0.58239964 0.27496477]]\n"
     ]
    }
   ],
   "source": [
    "#MATRIX OPERATIONS\n",
    "randon_matrix = np.random.rand(3,3)\n",
    "#this random function will  give you the decimal values\n",
    "print(randon_matrix)"
   ]
  },
  {
   "cell_type": "code",
   "execution_count": 8,
   "id": "37b0d0de-4019-4166-98ed-aa7a114bb13f",
   "metadata": {},
   "outputs": [
    {
     "name": "stdout",
     "output_type": "stream",
     "text": [
      "[[ 5 27 78]\n",
      " [88 40 49]\n",
      " [74 70 55]]\n"
     ]
    }
   ],
   "source": [
    "randon_matrix_2 = np.random.randint(100 , size=(3,3))\n",
    "#this random gives you the values of matrix in integers;\n",
    "print(randon_matrix_2)"
   ]
  },
  {
   "cell_type": "code",
   "execution_count": 12,
   "id": "5f9c3fcf-3b03-4399-856f-4b0b797e7076",
   "metadata": {},
   "outputs": [
    {
     "name": "stdout",
     "output_type": "stream",
     "text": [
      "[[1. 1. 1.]\n",
      " [1. 1. 1.]\n",
      " [1. 1. 1.]]\n"
     ]
    }
   ],
   "source": [
    "matirx = np.ones(shape =(3,3),dtype = float)\n",
    "print(matirx)\n",
    "\n",
    "#this prints the matrix with elements being one and we can set the data type of the matrix.  "
   ]
  },
  {
   "cell_type": "code",
   "execution_count": null,
   "id": "795dc0aa-8fa4-4984-9cad-dd4905ffd96b",
   "metadata": {},
   "outputs": [],
   "source": [
    "#just as the ones are there we can work out for the zero matrix, \n",
    "#just use the .zeros inplace of ones"
   ]
  },
  {
   "cell_type": "code",
   "execution_count": null,
   "id": "a8fc9e51-a5a7-42b9-a299-26c1009897a6",
   "metadata": {},
   "outputs": [],
   "source": [
    "#for identity  matrix use .eye\n",
    "#use .transpose for finding the transpose of a matrix"
   ]
  },
  {
   "cell_type": "code",
   "execution_count": 13,
   "id": "56bc3673-fc12-4f44-bcee-0452afad1675",
   "metadata": {},
   "outputs": [],
   "source": [
    "a = np.array([[2,2],[2,2]])\n",
    "\n",
    "b = np.array([[3,3],[4,4]])"
   ]
  },
  {
   "cell_type": "code",
   "execution_count": 14,
   "id": "a6c031c5-1bf1-4bb8-af3e-4c6f9c0d3cce",
   "metadata": {},
   "outputs": [
    {
     "name": "stdout",
     "output_type": "stream",
     "text": [
      "[[2 2]\n",
      " [2 2]]\n",
      "[[3 3]\n",
      " [4 4]]\n"
     ]
    }
   ],
   "source": [
    "print(a)\n",
    "print(b)"
   ]
  },
  {
   "cell_type": "code",
   "execution_count": 17,
   "id": "57272974-8695-4d3b-ae6e-992502826d5a",
   "metadata": {},
   "outputs": [
    {
     "name": "stdout",
     "output_type": "stream",
     "text": [
      "[[5 5]\n",
      " [6 6]]\n"
     ]
    }
   ],
   "source": [
    "#c = a+b\n",
    "c = np.add(a,b)\n",
    "print(c)\n",
    "#another way of adding the matrix is using np.add function \n",
    "#similarly use .substract , np.multiply\n",
    "#np.multiply gives us the element wise multiply not the real way the matrix is multiplied\n",
    "#so to get in the real way we need to use np.dot(a,b) . this gives us the row*col multiply"
   ]
  },
  {
   "cell_type": "code",
   "execution_count": null,
   "id": "04ec68f2-b0ee-4180-8ad5-f764e9166470",
   "metadata": {},
   "outputs": [],
   "source": []
  },
  {
   "cell_type": "code",
   "execution_count": null,
   "id": "080634c1-e751-4ca3-be55-f635fc5a0944",
   "metadata": {},
   "outputs": [],
   "source": []
  },
  {
   "cell_type": "code",
   "execution_count": null,
   "id": "a178a775-3dc1-4a72-b270-9e911fa886f9",
   "metadata": {},
   "outputs": [],
   "source": []
  },
  {
   "cell_type": "code",
   "execution_count": null,
   "id": "69dc32a1-210a-49b7-aac2-df7908578044",
   "metadata": {},
   "outputs": [],
   "source": []
  },
  {
   "cell_type": "code",
   "execution_count": null,
   "id": "35818ea1-ee71-4d90-97c8-f66cea51c395",
   "metadata": {},
   "outputs": [],
   "source": []
  },
  {
   "cell_type": "code",
   "execution_count": null,
   "id": "3f1a3446-e8a4-450a-b6f9-0b35c9ea839f",
   "metadata": {},
   "outputs": [],
   "source": []
  },
  {
   "cell_type": "code",
   "execution_count": null,
   "id": "01f044bd-290d-4314-94fa-9760b7e2324e",
   "metadata": {},
   "outputs": [],
   "source": []
  },
  {
   "cell_type": "code",
   "execution_count": null,
   "id": "24c3c393-641b-4fb8-9e51-6ce5239fa5b8",
   "metadata": {},
   "outputs": [],
   "source": []
  },
  {
   "cell_type": "code",
   "execution_count": null,
   "id": "12267420-a8f9-4652-90e6-1fab8f950b02",
   "metadata": {},
   "outputs": [],
   "source": []
  },
  {
   "cell_type": "code",
   "execution_count": null,
   "id": "78ae5192-8792-4228-b8e9-d6877b27f8e3",
   "metadata": {},
   "outputs": [],
   "source": []
  },
  {
   "cell_type": "code",
   "execution_count": null,
   "id": "8afef190-7376-4fa6-878a-22d12e59c553",
   "metadata": {},
   "outputs": [],
   "source": []
  },
  {
   "cell_type": "code",
   "execution_count": null,
   "id": "aafef48d-10c2-467f-a4b1-7930ddc77f63",
   "metadata": {},
   "outputs": [],
   "source": []
  },
  {
   "cell_type": "code",
   "execution_count": null,
   "id": "4d33a2f4-c814-480b-8f47-0b0e821f44ab",
   "metadata": {},
   "outputs": [],
   "source": []
  },
  {
   "cell_type": "code",
   "execution_count": null,
   "id": "29e69961-9cfd-4005-b050-b8647cb562ab",
   "metadata": {},
   "outputs": [],
   "source": []
  },
  {
   "cell_type": "code",
   "execution_count": null,
   "id": "64a87351-bd54-4156-8fe8-28a663818dfc",
   "metadata": {},
   "outputs": [],
   "source": []
  },
  {
   "cell_type": "code",
   "execution_count": null,
   "id": "75e07457-5e51-48bc-9846-3d8a89f43f05",
   "metadata": {},
   "outputs": [],
   "source": []
  },
  {
   "cell_type": "code",
   "execution_count": null,
   "id": "8c3fb11f-5fb4-4e8a-bb38-c88d7225feb7",
   "metadata": {},
   "outputs": [],
   "source": []
  },
  {
   "cell_type": "code",
   "execution_count": null,
   "id": "5e758466-c094-4acd-ab04-c49817974a1a",
   "metadata": {},
   "outputs": [],
   "source": []
  },
  {
   "cell_type": "code",
   "execution_count": null,
   "id": "a84e4af5-4bc5-44fb-a54e-19e325542354",
   "metadata": {},
   "outputs": [],
   "source": []
  },
  {
   "cell_type": "code",
   "execution_count": null,
   "id": "35791146-8b79-4221-8fa1-328ffbfca291",
   "metadata": {},
   "outputs": [],
   "source": []
  },
  {
   "cell_type": "code",
   "execution_count": null,
   "id": "973e6228-b2e6-4be6-9760-3a94bf41fb89",
   "metadata": {},
   "outputs": [],
   "source": []
  },
  {
   "cell_type": "code",
   "execution_count": null,
   "id": "1908f4f1-05da-4d4f-bed8-bf2c05bb49fd",
   "metadata": {},
   "outputs": [],
   "source": []
  },
  {
   "cell_type": "code",
   "execution_count": null,
   "id": "eb52bac2-71b6-40c6-bec8-917e62d5e591",
   "metadata": {},
   "outputs": [],
   "source": []
  },
  {
   "cell_type": "code",
   "execution_count": null,
   "id": "881f3fb7-e273-4208-a841-19bf530fc423",
   "metadata": {},
   "outputs": [],
   "source": []
  }
 ],
 "metadata": {
  "kernelspec": {
   "display_name": "Python 3 (ipykernel)",
   "language": "python",
   "name": "python3"
  },
  "language_info": {
   "codemirror_mode": {
    "name": "ipython",
    "version": 3
   },
   "file_extension": ".py",
   "mimetype": "text/x-python",
   "name": "python",
   "nbconvert_exporter": "python",
   "pygments_lexer": "ipython3",
   "version": "3.8.2"
  }
 },
 "nbformat": 4,
 "nbformat_minor": 5
}
