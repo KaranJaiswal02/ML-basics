{
 "cells": [
  {
   "cell_type": "markdown",
   "id": "cdc7be08-5d4e-49c7-8196-efabdc9298cd",
   "metadata": {},
   "source": [
    "\n",
    "Numpy Tutorial"
   ]
  },
  {
   "cell_type": "code",
   "execution_count": 2,
   "id": "8d367d65-3ec7-428a-b167-a11a1f82db1d",
   "metadata": {},
   "outputs": [],
   "source": [
    "import numpy as np "
   ]
  },
  {
   "cell_type": "code",
   "execution_count": 3,
   "id": "72ae637d-a45f-41a2-b0ed-4f8478ad54e9",
   "metadata": {},
   "outputs": [
    {
     "name": "stdout",
     "output_type": "stream",
     "text": [
      "[1, 2, 3, 4, 5]\n"
     ]
    }
   ],
   "source": [
    "lst=[1,2,3,4,5]\n",
    "print(lst)"
   ]
  },
  {
   "cell_type": "code",
   "execution_count": 5,
   "id": "294aa380-e6cb-4128-8b52-489045391831",
   "metadata": {},
   "outputs": [
    {
     "name": "stdout",
     "output_type": "stream",
     "text": [
      "1-d array\n",
      "[1 2 3 4 5]\n"
     ]
    }
   ],
   "source": [
    "#1d array\n",
    "print(\"1-d array\")\n",
    "a = np.array([1,2,3,4,5])\n",
    "print(a)"
   ]
  },
  {
   "cell_type": "code",
   "execution_count": 9,
   "id": "30605c12-9687-4f1c-b91b-0bb2d613dd28",
   "metadata": {},
   "outputs": [
    {
     "name": "stdout",
     "output_type": "stream",
     "text": [
      "2d array\n",
      "[[ 1  2  3  4  5]\n",
      " [ 6  7  8  9 10]\n",
      " [12 12 32 34 56]]\n"
     ]
    }
   ],
   "source": [
    "print(\"2d array\")\n",
    "b = np.array([[1,2,3,4,5],[6,7,8,9,10],[12,12,32,34,56]])\n",
    "print(b)"
   ]
  },
  {
   "cell_type": "code",
   "execution_count": 10,
   "id": "24f1a956-4dd6-4fd7-8d3b-5a87e3a228c5",
   "metadata": {},
   "outputs": [
    {
     "name": "stdout",
     "output_type": "stream",
     "text": [
      "3d array\n",
      "[[[ 1  2  3  4  5]\n",
      "  [ 6  7  8  9 10]\n",
      "  [12 12 32 34 56]]]\n"
     ]
    }
   ],
   "source": [
    "print(\"3d array\")\n",
    "bb = np.array([[[1,2,3,4,5],[6,7,8,9,10],[12,12,32,34,56]]])\n",
    "print(bb)"
   ]
  },
  {
   "cell_type": "code",
   "execution_count": 12,
   "id": "0449f401-e01a-4f93-a729-915dc51c4657",
   "metadata": {},
   "outputs": [
    {
     "name": "stdout",
     "output_type": "stream",
     "text": [
      "(3, 5)\n",
      "(1, 3, 5)\n"
     ]
    }
   ],
   "source": [
    "print(b.shape)\n",
    "print(bb.shape)"
   ]
  },
  {
   "cell_type": "code",
   "execution_count": 13,
   "id": "ffdbbc2e-2edf-4848-8dcf-4300cda5b516",
   "metadata": {},
   "outputs": [
    {
     "data": {
      "text/plain": [
       "array([[6.23042070e-307, 4.67296746e-307, 1.69121096e-306,\n",
       "        1.86921822e-306],\n",
       "       [1.42413555e-306, 1.78019082e-306, 1.37959740e-306,\n",
       "        6.23057349e-307],\n",
       "       [1.42419530e-306, 2.22522597e-306, 1.33512173e-306,\n",
       "        9.45737027e-308],\n",
       "       [8.90077077e-308, 8.90071984e-308, 1.33509100e-307,\n",
       "        8.34424766e-308]])"
      ]
     },
     "execution_count": 13,
     "metadata": {},
     "output_type": "execute_result"
    }
   ],
   "source": [
    "np.empty((4,4) , dtype = float)"
   ]
  },
  {
   "cell_type": "code",
   "execution_count": 14,
   "id": "a88d6c20-a85f-4090-bf2a-4af2e3f0d7f2",
   "metadata": {},
   "outputs": [
    {
     "data": {
      "text/plain": [
       "array([ 1,  2,  3,  4,  5,  6,  7,  8,  9, 10, 11, 12, 13, 14, 15, 16, 17,\n",
       "       18, 19])"
      ]
     },
     "execution_count": 14,
     "metadata": {},
     "output_type": "execute_result"
    }
   ],
   "source": [
    "a=np.arange(1,20)\n",
    "a"
   ]
  },
  {
   "cell_type": "code",
   "execution_count": 19,
   "id": "993c0eb4-4a6b-44a3-8189-878d7421bb51",
   "metadata": {},
   "outputs": [
    {
     "data": {
      "text/plain": [
       "array([ 1,  3,  5,  7,  9, 11, 13, 15, 17])"
      ]
     },
     "execution_count": 19,
     "metadata": {},
     "output_type": "execute_result"
    }
   ],
   "source": [
    "b=np.arange(1,19,2)\n",
    "b\n"
   ]
  },
  {
   "cell_type": "code",
   "execution_count": 20,
   "id": "cdd5ea04-2be0-423e-92ed-504a4f7f50f8",
   "metadata": {},
   "outputs": [
    {
     "data": {
      "text/plain": [
       "array([[ 1,  3,  5],\n",
       "       [ 7,  9, 11],\n",
       "       [13, 15, 17]])"
      ]
     },
     "execution_count": 20,
     "metadata": {},
     "output_type": "execute_result"
    }
   ],
   "source": [
    "c= b.reshape((3,3))\n",
    "c"
   ]
  },
  {
   "cell_type": "code",
   "execution_count": 21,
   "id": "94a76dcd-de15-4f76-b9bc-c25d896b3f4a",
   "metadata": {},
   "outputs": [
    {
     "data": {
      "text/plain": [
       "array([[ 1,  3,  5],\n",
       "       [ 7,  9, 11],\n",
       "       [13, 15, 17]])"
      ]
     },
     "execution_count": 21,
     "metadata": {},
     "output_type": "execute_result"
    }
   ],
   "source": [
    "c"
   ]
  },
  {
   "cell_type": "code",
   "execution_count": 22,
   "id": "6d1c8557-16ba-4e79-a3e6-82faa3326081",
   "metadata": {},
   "outputs": [
    {
     "data": {
      "text/plain": [
       "array([ 1,  3,  5,  7,  9, 11, 13, 15, 17])"
      ]
     },
     "execution_count": 22,
     "metadata": {},
     "output_type": "execute_result"
    }
   ],
   "source": [
    "d=c.flatten()\n",
    "d"
   ]
  },
  {
   "cell_type": "code",
   "execution_count": 24,
   "id": "244a3f58-be94-47bc-a4a4-c4b5ce19561f",
   "metadata": {},
   "outputs": [
    {
     "data": {
      "text/plain": [
       "array([ 1,  3,  5,  7,  9, 11, 13, 15, 17])"
      ]
     },
     "execution_count": 24,
     "metadata": {},
     "output_type": "execute_result"
    }
   ],
   "source": [
    "e=c.ravel()\n",
    "e"
   ]
  },
  {
   "cell_type": "markdown",
   "id": "624bc16f-5441-46b2-80c3-1c7ce2cd0832",
   "metadata": {},
   "source": [
    "flatten and ravel are just the reciprocal of reshaping i.e, converts multidimensional array into a single dim array"
   ]
  },
  {
   "cell_type": "code",
   "execution_count": null,
   "id": "c90d5377-fa06-40dc-90c9-ebc25f6872e8",
   "metadata": {},
   "outputs": [],
   "source": []
  },
  {
   "cell_type": "code",
   "execution_count": null,
   "id": "4443f19b-adff-4c4c-be9a-4beda369dffc",
   "metadata": {},
   "outputs": [],
   "source": []
  }
 ],
 "metadata": {
  "kernelspec": {
   "display_name": "Python 3 (ipykernel)",
   "language": "python",
   "name": "python3"
  },
  "language_info": {
   "codemirror_mode": {
    "name": "ipython",
    "version": 3
   },
   "file_extension": ".py",
   "mimetype": "text/x-python",
   "name": "python",
   "nbconvert_exporter": "python",
   "pygments_lexer": "ipython3",
   "version": "3.8.2"
  }
 },
 "nbformat": 4,
 "nbformat_minor": 5
}
