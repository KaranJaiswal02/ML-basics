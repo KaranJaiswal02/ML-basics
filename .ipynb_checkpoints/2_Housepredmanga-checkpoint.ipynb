{
 "cells": [
  {
   "cell_type": "code",
   "execution_count": 3,
   "id": "ec50b8f7-ea5c-4070-b419-80a2ce5ebbad",
   "metadata": {},
   "outputs": [],
   "source": [
    "import numpy as np\n",
    "import pandas as pd\n",
    "import matplotlib.pyplot as plt\n",
    "import seaborn as sns\n",
    "import warnings\n",
    "from tensorflow import keras\n",
    "from sklearn.model_selection import train_test_split\n",
    "from sklearn.preprocessing import StandardScaler\n",
    "warnings.filterwarnings('ignore')"
   ]
  },
  {
   "cell_type": "code",
   "execution_count": 4,
   "id": "13514420-6207-4e4d-a54f-963ede8e6fff",
   "metadata": {},
   "outputs": [],
   "source": [
    "df = pd.read_csv('house2.csv')"
   ]
  },
  {
   "cell_type": "code",
   "execution_count": 6,
   "id": "eaaefce7-b933-42a3-866a-2eb4fa4c79ed",
   "metadata": {},
   "outputs": [
    {
     "data": {
      "text/html": [
       "<div>\n",
       "<style scoped>\n",
       "    .dataframe tbody tr th:only-of-type {\n",
       "        vertical-align: middle;\n",
       "    }\n",
       "\n",
       "    .dataframe tbody tr th {\n",
       "        vertical-align: top;\n",
       "    }\n",
       "\n",
       "    .dataframe thead th {\n",
       "        text-align: right;\n",
       "    }\n",
       "</style>\n",
       "<table border=\"1\" class=\"dataframe\">\n",
       "  <thead>\n",
       "    <tr style=\"text-align: right;\">\n",
       "      <th></th>\n",
       "      <th>area_type</th>\n",
       "      <th>availability</th>\n",
       "      <th>location</th>\n",
       "      <th>size</th>\n",
       "      <th>society</th>\n",
       "      <th>total_sqft</th>\n",
       "      <th>bath</th>\n",
       "      <th>balcony</th>\n",
       "      <th>price</th>\n",
       "    </tr>\n",
       "  </thead>\n",
       "  <tbody>\n",
       "    <tr>\n",
       "      <th>8678</th>\n",
       "      <td>Super built-up  Area</td>\n",
       "      <td>Ready To Move</td>\n",
       "      <td>Nagavara</td>\n",
       "      <td>4 BHK</td>\n",
       "      <td>K dotna</td>\n",
       "      <td>2496</td>\n",
       "      <td>4.0</td>\n",
       "      <td>2.0</td>\n",
       "      <td>125.0</td>\n",
       "    </tr>\n",
       "    <tr>\n",
       "      <th>10036</th>\n",
       "      <td>Super built-up  Area</td>\n",
       "      <td>Ready To Move</td>\n",
       "      <td>Thigalarapalya</td>\n",
       "      <td>3 BHK</td>\n",
       "      <td>Prtanha</td>\n",
       "      <td>1830</td>\n",
       "      <td>3.0</td>\n",
       "      <td>2.0</td>\n",
       "      <td>133.0</td>\n",
       "    </tr>\n",
       "    <tr>\n",
       "      <th>412</th>\n",
       "      <td>Super built-up  Area</td>\n",
       "      <td>Ready To Move</td>\n",
       "      <td>Kengeri</td>\n",
       "      <td>2 BHK</td>\n",
       "      <td>VBvenal</td>\n",
       "      <td>750</td>\n",
       "      <td>2.0</td>\n",
       "      <td>1.0</td>\n",
       "      <td>38.0</td>\n",
       "    </tr>\n",
       "    <tr>\n",
       "      <th>12068</th>\n",
       "      <td>Built-up  Area</td>\n",
       "      <td>Ready To Move</td>\n",
       "      <td>Thanisandra</td>\n",
       "      <td>6 Bedroom</td>\n",
       "      <td>NaN</td>\n",
       "      <td>2999.97</td>\n",
       "      <td>6.0</td>\n",
       "      <td>0.0</td>\n",
       "      <td>110.0</td>\n",
       "    </tr>\n",
       "    <tr>\n",
       "      <th>3247</th>\n",
       "      <td>Built-up  Area</td>\n",
       "      <td>Ready To Move</td>\n",
       "      <td>Bellari Road</td>\n",
       "      <td>2 BHK</td>\n",
       "      <td>Pralmat</td>\n",
       "      <td>900</td>\n",
       "      <td>2.0</td>\n",
       "      <td>1.0</td>\n",
       "      <td>45.0</td>\n",
       "    </tr>\n",
       "  </tbody>\n",
       "</table>\n",
       "</div>"
      ],
      "text/plain": [
       "                  area_type   availability        location       size  \\\n",
       "8678   Super built-up  Area  Ready To Move        Nagavara      4 BHK   \n",
       "10036  Super built-up  Area  Ready To Move  Thigalarapalya      3 BHK   \n",
       "412    Super built-up  Area  Ready To Move         Kengeri      2 BHK   \n",
       "12068        Built-up  Area  Ready To Move     Thanisandra  6 Bedroom   \n",
       "3247         Built-up  Area  Ready To Move    Bellari Road      2 BHK   \n",
       "\n",
       "       society total_sqft  bath  balcony  price  \n",
       "8678   K dotna       2496   4.0      2.0  125.0  \n",
       "10036  Prtanha       1830   3.0      2.0  133.0  \n",
       "412    VBvenal        750   2.0      1.0   38.0  \n",
       "12068      NaN    2999.97   6.0      0.0  110.0  \n",
       "3247   Pralmat        900   2.0      1.0   45.0  "
      ]
     },
     "execution_count": 6,
     "metadata": {},
     "output_type": "execute_result"
    }
   ],
   "source": [
    "df.sample(5)"
   ]
  },
  {
   "cell_type": "code",
   "execution_count": 7,
   "id": "4ab98086-88de-494a-81fd-4b8c568de133",
   "metadata": {},
   "outputs": [
    {
     "data": {
      "text/plain": [
       "(13320, 9)"
      ]
     },
     "execution_count": 7,
     "metadata": {},
     "output_type": "execute_result"
    }
   ],
   "source": [
    "df.shape"
   ]
  },
  {
   "cell_type": "code",
   "execution_count": 8,
   "id": "302b1468-5ff2-41be-bde9-5ca8f14e86e8",
   "metadata": {},
   "outputs": [
    {
     "data": {
      "text/plain": [
       "area_type          0\n",
       "availability       0\n",
       "location           1\n",
       "size              16\n",
       "society         5502\n",
       "total_sqft         0\n",
       "bath              73\n",
       "balcony          609\n",
       "price              0\n",
       "dtype: int64"
      ]
     },
     "execution_count": 8,
     "metadata": {},
     "output_type": "execute_result"
    }
   ],
   "source": [
    "df.isnull().sum()"
   ]
  },
  {
   "cell_type": "code",
   "execution_count": 9,
   "id": "045f49b9-6390-4b23-b5fd-7e232f037be5",
   "metadata": {},
   "outputs": [],
   "source": [
    "df = df.drop(['area_type','location','availability','society'],axis = 1)"
   ]
  },
  {
   "cell_type": "code",
   "execution_count": 10,
   "id": "cea6a847-2490-4593-a9a7-26212dec2529",
   "metadata": {},
   "outputs": [
    {
     "name": "stdout",
     "output_type": "stream",
     "text": [
      "<class 'pandas.core.frame.DataFrame'>\n",
      "RangeIndex: 13320 entries, 0 to 13319\n",
      "Data columns (total 5 columns):\n",
      " #   Column      Non-Null Count  Dtype  \n",
      "---  ------      --------------  -----  \n",
      " 0   size        13304 non-null  object \n",
      " 1   total_sqft  13320 non-null  object \n",
      " 2   bath        13247 non-null  float64\n",
      " 3   balcony     12711 non-null  float64\n",
      " 4   price       13320 non-null  float64\n",
      "dtypes: float64(3), object(2)\n",
      "memory usage: 520.4+ KB\n"
     ]
    }
   ],
   "source": [
    "df.info()"
   ]
  },
  {
   "cell_type": "code",
   "execution_count": 11,
   "id": "c081a832-b5cb-402b-aa36-42b210d0a237",
   "metadata": {},
   "outputs": [
    {
     "data": {
      "text/html": [
       "<div>\n",
       "<style scoped>\n",
       "    .dataframe tbody tr th:only-of-type {\n",
       "        vertical-align: middle;\n",
       "    }\n",
       "\n",
       "    .dataframe tbody tr th {\n",
       "        vertical-align: top;\n",
       "    }\n",
       "\n",
       "    .dataframe thead th {\n",
       "        text-align: right;\n",
       "    }\n",
       "</style>\n",
       "<table border=\"1\" class=\"dataframe\">\n",
       "  <thead>\n",
       "    <tr style=\"text-align: right;\">\n",
       "      <th></th>\n",
       "      <th>size</th>\n",
       "      <th>total_sqft</th>\n",
       "      <th>bath</th>\n",
       "      <th>balcony</th>\n",
       "      <th>price</th>\n",
       "    </tr>\n",
       "  </thead>\n",
       "  <tbody>\n",
       "    <tr>\n",
       "      <th>3833</th>\n",
       "      <td>2 BHK</td>\n",
       "      <td>1302</td>\n",
       "      <td>2.0</td>\n",
       "      <td>1.0</td>\n",
       "      <td>69.1</td>\n",
       "    </tr>\n",
       "    <tr>\n",
       "      <th>10222</th>\n",
       "      <td>2 BHK</td>\n",
       "      <td>1361</td>\n",
       "      <td>2.0</td>\n",
       "      <td>2.0</td>\n",
       "      <td>79.0</td>\n",
       "    </tr>\n",
       "    <tr>\n",
       "      <th>7294</th>\n",
       "      <td>3 BHK</td>\n",
       "      <td>1240</td>\n",
       "      <td>3.0</td>\n",
       "      <td>2.0</td>\n",
       "      <td>60.0</td>\n",
       "    </tr>\n",
       "    <tr>\n",
       "      <th>7597</th>\n",
       "      <td>4 Bedroom</td>\n",
       "      <td>2600</td>\n",
       "      <td>4.0</td>\n",
       "      <td>0.0</td>\n",
       "      <td>325.0</td>\n",
       "    </tr>\n",
       "    <tr>\n",
       "      <th>12494</th>\n",
       "      <td>2 BHK</td>\n",
       "      <td>891</td>\n",
       "      <td>2.0</td>\n",
       "      <td>1.0</td>\n",
       "      <td>26.0</td>\n",
       "    </tr>\n",
       "  </tbody>\n",
       "</table>\n",
       "</div>"
      ],
      "text/plain": [
       "            size total_sqft  bath  balcony  price\n",
       "3833       2 BHK       1302   2.0      1.0   69.1\n",
       "10222      2 BHK       1361   2.0      2.0   79.0\n",
       "7294       3 BHK       1240   3.0      2.0   60.0\n",
       "7597   4 Bedroom       2600   4.0      0.0  325.0\n",
       "12494      2 BHK        891   2.0      1.0   26.0"
      ]
     },
     "execution_count": 11,
     "metadata": {},
     "output_type": "execute_result"
    }
   ],
   "source": [
    "df.sample(5)"
   ]
  },
  {
   "cell_type": "code",
   "execution_count": 12,
   "id": "57fc43ef-7a3d-4245-b1cd-70c2d874ee0f",
   "metadata": {},
   "outputs": [
    {
     "data": {
      "text/plain": [
       "count    13320.000000\n",
       "mean       112.565627\n",
       "std        148.971674\n",
       "min          8.000000\n",
       "25%         50.000000\n",
       "50%         72.000000\n",
       "75%        120.000000\n",
       "max       3600.000000\n",
       "Name: price, dtype: float64"
      ]
     },
     "execution_count": 12,
     "metadata": {},
     "output_type": "execute_result"
    }
   ],
   "source": [
    "df['price'].describe()"
   ]
  },
  {
   "cell_type": "code",
   "execution_count": 13,
   "id": "43ffb82e-5d78-406c-9797-9a10a81e0343",
   "metadata": {},
   "outputs": [
    {
     "data": {
      "text/plain": [
       "<Axes: xlabel='price', ylabel='Density'>"
      ]
     },
     "execution_count": 13,
     "metadata": {},
     "output_type": "execute_result"
    },
    {
     "data": {
      "image/png": "[encoded data removed]",
      "text/plain": [
       "<Figure size 640x480 with 1 Axes>"
      ]
     },
     "metadata": {},
     "output_type": "display_data"
    }
   ],
   "source": [
    "sns.distplot(df['price'])"
   ]
  },
  {
   "cell_type": "code",
   "execution_count": 50,
   "id": "b37cc8bd-c5a4-4520-9583-83619f4f786e",
   "metadata": {},
   "outputs": [
    {
     "data": {
      "text/plain": [
       "<Axes: >"
      ]
     },
     "execution_count": 50,
     "metadata": {},
     "output_type": "execute_result"
    },
    {
     "data": {
      "image/png": "[encoded data removed]",
      "text/plain": [
       "<Figure size 640x480 with 2 Axes>"
      ]
     },
     "metadata": {},
     "output_type": "display_data"
    }
   ],
   "source": [
    "numericalColumns = [\"bath\",\"balcony\",\"price\"]\n",
    "corr = df[numericalColumns].corr()\n",
    "sns.heatmap(corr, annot=True)"
   ]
  },
  {
   "cell_type": "code",
   "execution_count": 48,
   "id": "ca5d4aae-f3c8-4ec5-8848-603db7568111",
   "metadata": {},
   "outputs": [
    {
     "data": {
      "text/plain": [
       "size              0\n",
       "bath              0\n",
       "balcony           0\n",
       "price             0\n",
       "new_total_sqft    0\n",
       "dtype: int64"
      ]
     },
     "execution_count": 48,
     "metadata": {},
     "output_type": "execute_result"
    }
   ],
   "source": [
    "df.isnull().sum()"
   ]
  },
  {
   "cell_type": "code",
   "execution_count": 16,
   "id": "b8c0e94f-0a31-42c8-990c-9f8742df58b6",
   "metadata": {},
   "outputs": [
    {
     "data": {
      "text/plain": [
       "array(['2 BHK', '4 Bedroom', '3 BHK', '4 BHK', '6 Bedroom', '3 Bedroom',\n",
       "       '1 BHK', '1 RK', '1 Bedroom', '8 Bedroom', '2 Bedroom',\n",
       "       '7 Bedroom', '5 BHK', '7 BHK', '6 BHK', '5 Bedroom', '11 BHK',\n",
       "       '9 BHK', nan, '9 Bedroom', '27 BHK', '10 Bedroom', '11 Bedroom',\n",
       "       '10 BHK', '19 BHK', '16 BHK', '43 Bedroom', '14 BHK', '8 BHK',\n",
       "       '12 Bedroom', '13 BHK', '18 Bedroom'], dtype=object)"
      ]
     },
     "execution_count": 16,
     "metadata": {},
     "output_type": "execute_result"
    }
   ],
   "source": [
    "df['size'].unique()"
   ]
  },
  {
   "cell_type": "code",
   "execution_count": 17,
   "id": "930eeb12-b703-4476-ae2a-d6ad950066a1",
   "metadata": {},
   "outputs": [
    {
     "data": {
      "text/plain": [
       "16"
      ]
     },
     "execution_count": 17,
     "metadata": {},
     "output_type": "execute_result"
    }
   ],
   "source": [
    "df['size'].isnull().sum()"
   ]
  },
  {
   "cell_type": "code",
   "execution_count": 18,
   "id": "57124f7b-b2b2-4a70-9c85-ff736ef9feac",
   "metadata": {},
   "outputs": [
    {
     "data": {
      "text/plain": [
       "0"
      ]
     },
     "execution_count": 18,
     "metadata": {},
     "output_type": "execute_result"
    }
   ],
   "source": [
    "def changesize(val):\n",
    "    if val == np.nan:\n",
    "        return np.nan\n",
    "    else:\n",
    "        val = str(val).split(' ')\n",
    "        val = val[0]\n",
    "        return float(val)\n",
    "    \n",
    "df['size'] = df['size'].apply(changesize)\n",
    "\n",
    "df['size'] = df['size'].fillna(df['size'].mean())\n",
    "\n",
    "\n",
    "df['size'].isnull().sum()"
   ]
  },
  {
   "cell_type": "code",
   "execution_count": 19,
   "id": "e4c4cfb4-8a7e-4850-b922-79937e4bb778",
   "metadata": {},
   "outputs": [
    {
     "data": {
      "text/plain": [
       "size            0\n",
       "total_sqft      0\n",
       "bath           73\n",
       "balcony       609\n",
       "price           0\n",
       "dtype: int64"
      ]
     },
     "execution_count": 19,
     "metadata": {},
     "output_type": "execute_result"
    }
   ],
   "source": [
    "df.isnull().sum()"
   ]
  },
  {
   "cell_type": "code",
   "execution_count": 20,
   "id": "eea2e58e-9ffd-4279-a911-791cc9907717",
   "metadata": {},
   "outputs": [
    {
     "data": {
      "text/plain": [
       "array([ 2.,  5.,  3.,  4.,  6.,  1.,  9., nan,  8.,  7., 11., 10., 14.,\n",
       "       27., 12., 16., 40., 15., 13., 18.])"
      ]
     },
     "execution_count": 20,
     "metadata": {},
     "output_type": "execute_result"
    }
   ],
   "source": [
    "df['bath'].unique()"
   ]
  },
  {
   "cell_type": "code",
   "execution_count": 21,
   "id": "260aab99-79bf-4aba-9a06-9c2970ab2b26",
   "metadata": {},
   "outputs": [],
   "source": [
    "# fill nan values with mean\n",
    "df['bath'] = df['bath'].fillna(df['bath'].mean())"
   ]
  },
  {
   "cell_type": "code",
   "execution_count": 22,
   "id": "0b7e24bf-e936-4281-b8ee-564b54f8824b",
   "metadata": {},
   "outputs": [
    {
     "data": {
      "text/plain": [
       "size            0\n",
       "total_sqft      0\n",
       "bath            0\n",
       "balcony       609\n",
       "price           0\n",
       "dtype: int64"
      ]
     },
     "execution_count": 22,
     "metadata": {},
     "output_type": "execute_result"
    }
   ],
   "source": [
    "df.isnull().sum()"
   ]
  },
  {
   "cell_type": "code",
   "execution_count": 23,
   "id": "56ca73f5-1125-472e-95d1-83caf1d5bec3",
   "metadata": {},
   "outputs": [
    {
     "data": {
      "text/plain": [
       "array([ 1.,  3., nan,  2.,  0.])"
      ]
     },
     "execution_count": 23,
     "metadata": {},
     "output_type": "execute_result"
    }
   ],
   "source": [
    "df['balcony'].unique()"
   ]
  },
  {
   "cell_type": "code",
   "execution_count": 24,
   "id": "c28ecf83-e4c9-4136-8dcd-3ae34be33470",
   "metadata": {},
   "outputs": [],
   "source": [
    "# fill nan values with mean\n",
    "df['balcony'] = df['balcony'].fillna(df['balcony'].mean())"
   ]
  },
  {
   "cell_type": "code",
   "execution_count": 25,
   "id": "d8be6075-2051-4b02-851c-c0cc154e19fd",
   "metadata": {},
   "outputs": [
    {
     "data": {
      "text/plain": [
       "size          0\n",
       "total_sqft    0\n",
       "bath          0\n",
       "balcony       0\n",
       "price         0\n",
       "dtype: int64"
      ]
     },
     "execution_count": 25,
     "metadata": {},
     "output_type": "execute_result"
    }
   ],
   "source": [
    "df.isnull().sum()"
   ]
  },
  {
   "cell_type": "code",
   "execution_count": 26,
   "id": "101551a7-5f5b-4f52-aa96-d86e662cbf6e",
   "metadata": {},
   "outputs": [
    {
     "name": "stdout",
     "output_type": "stream",
     "text": [
      "<class 'pandas.core.frame.DataFrame'>\n",
      "RangeIndex: 13320 entries, 0 to 13319\n",
      "Data columns (total 5 columns):\n",
      " #   Column      Non-Null Count  Dtype  \n",
      "---  ------      --------------  -----  \n",
      " 0   size        13320 non-null  float64\n",
      " 1   total_sqft  13320 non-null  object \n",
      " 2   bath        13320 non-null  float64\n",
      " 3   balcony     13320 non-null  float64\n",
      " 4   price       13320 non-null  float64\n",
      "dtypes: float64(4), object(1)\n",
      "memory usage: 520.4+ KB\n"
     ]
    }
   ],
   "source": [
    "df.info()"
   ]
  },
  {
   "cell_type": "code",
   "execution_count": 27,
   "id": "75674168-4f1d-4854-8f0b-3d6faf076377",
   "metadata": {},
   "outputs": [
    {
     "data": {
      "text/plain": [
       "array(['1056', '2600', '1440', ..., '1133 - 1384', '774', '4689'],\n",
       "      dtype=object)"
      ]
     },
     "execution_count": 27,
     "metadata": {},
     "output_type": "execute_result"
    }
   ],
   "source": [
    "df['total_sqft'].unique()"
   ]
  },
  {
   "cell_type": "code",
   "execution_count": 28,
   "id": "aff63367-92f4-4d24-8761-1d20083d1a59",
   "metadata": {},
   "outputs": [],
   "source": [
    "total_sqft_int = []\n",
    "\n",
    "for val in df['total_sqft']:\n",
    "    try:\n",
    "        total_sqft_int.append(float(val))\n",
    "    except:\n",
    "        try:\n",
    "            val = val.split('-')\n",
    "            total_sqft_int.append((float(val[0]) + float(val[1])) / 2)  \n",
    "        except:\n",
    "            total_sqft_int.append(np.nan)  \n"
   ]
  },
  {
   "cell_type": "code",
   "execution_count": 29,
   "id": "edbb654a-3e9c-41cf-8261-6cbd4c9e6a58",
   "metadata": {},
   "outputs": [],
   "source": [
    "# join new integer column\n",
    "df = df.join(pd.DataFrame({'new_total_sqft':total_sqft_int}))"
   ]
  },
  {
   "cell_type": "code",
   "execution_count": 30,
   "id": "002a047f-3206-4d04-96d9-6f484f36c990",
   "metadata": {},
   "outputs": [],
   "source": [
    "# fill na values in total_sqft_int with mean \n",
    "df['new_total_sqft'] = df['new_total_sqft'].fillna(df['new_total_sqft'].mean())"
   ]
  },
  {
   "cell_type": "code",
   "execution_count": 31,
   "id": "1389a43c-6533-4010-93df-0b1cf6ad8f6f",
   "metadata": {},
   "outputs": [],
   "source": [
    "# dropping old total_sqft\n",
    "df = df.drop(['total_sqft'],axis = 1)"
   ]
  },
  {
   "cell_type": "code",
   "execution_count": 32,
   "id": "55251a7c-345b-4414-a5cd-bd4e1e7f33bf",
   "metadata": {},
   "outputs": [
    {
     "data": {
      "text/html": [
       "<div>\n",
       "<style scoped>\n",
       "    .dataframe tbody tr th:only-of-type {\n",
       "        vertical-align: middle;\n",
       "    }\n",
       "\n",
       "    .dataframe tbody tr th {\n",
       "        vertical-align: top;\n",
       "    }\n",
       "\n",
       "    .dataframe thead th {\n",
       "        text-align: right;\n",
       "    }\n",
       "</style>\n",
       "<table border=\"1\" class=\"dataframe\">\n",
       "  <thead>\n",
       "    <tr style=\"text-align: right;\">\n",
       "      <th></th>\n",
       "      <th>size</th>\n",
       "      <th>bath</th>\n",
       "      <th>balcony</th>\n",
       "      <th>price</th>\n",
       "      <th>new_total_sqft</th>\n",
       "    </tr>\n",
       "  </thead>\n",
       "  <tbody>\n",
       "    <tr>\n",
       "      <th>6964</th>\n",
       "      <td>1.0</td>\n",
       "      <td>1.0</td>\n",
       "      <td>1.0</td>\n",
       "      <td>21.00</td>\n",
       "      <td>435.0</td>\n",
       "    </tr>\n",
       "    <tr>\n",
       "      <th>6748</th>\n",
       "      <td>2.0</td>\n",
       "      <td>2.0</td>\n",
       "      <td>2.0</td>\n",
       "      <td>44.00</td>\n",
       "      <td>1024.0</td>\n",
       "    </tr>\n",
       "    <tr>\n",
       "      <th>9410</th>\n",
       "      <td>4.0</td>\n",
       "      <td>4.0</td>\n",
       "      <td>1.0</td>\n",
       "      <td>344.00</td>\n",
       "      <td>2400.0</td>\n",
       "    </tr>\n",
       "    <tr>\n",
       "      <th>5435</th>\n",
       "      <td>2.0</td>\n",
       "      <td>1.0</td>\n",
       "      <td>2.0</td>\n",
       "      <td>25.75</td>\n",
       "      <td>1030.0</td>\n",
       "    </tr>\n",
       "    <tr>\n",
       "      <th>7466</th>\n",
       "      <td>3.0</td>\n",
       "      <td>2.0</td>\n",
       "      <td>2.0</td>\n",
       "      <td>65.00</td>\n",
       "      <td>1495.0</td>\n",
       "    </tr>\n",
       "  </tbody>\n",
       "</table>\n",
       "</div>"
      ],
      "text/plain": [
       "      size  bath  balcony   price  new_total_sqft\n",
       "6964   1.0   1.0      1.0   21.00           435.0\n",
       "6748   2.0   2.0      2.0   44.00          1024.0\n",
       "9410   4.0   4.0      1.0  344.00          2400.0\n",
       "5435   2.0   1.0      2.0   25.75          1030.0\n",
       "7466   3.0   2.0      2.0   65.00          1495.0"
      ]
     },
     "execution_count": 32,
     "metadata": {},
     "output_type": "execute_result"
    }
   ],
   "source": [
    "df.sample(5)"
   ]
  },
  {
   "cell_type": "code",
   "execution_count": 33,
   "id": "3387ad1b-81a0-453b-9496-d25c4d853cfa",
   "metadata": {},
   "outputs": [
    {
     "name": "stdout",
     "output_type": "stream",
     "text": [
      "<class 'pandas.core.frame.DataFrame'>\n",
      "RangeIndex: 13320 entries, 0 to 13319\n",
      "Data columns (total 5 columns):\n",
      " #   Column          Non-Null Count  Dtype  \n",
      "---  ------          --------------  -----  \n",
      " 0   size            13320 non-null  float64\n",
      " 1   bath            13320 non-null  float64\n",
      " 2   balcony         13320 non-null  float64\n",
      " 3   price           13320 non-null  float64\n",
      " 4   new_total_sqft  13320 non-null  float64\n",
      "dtypes: float64(5)\n",
      "memory usage: 520.4 KB\n"
     ]
    }
   ],
   "source": [
    "# ALl columns are Numerical\n",
    "df.info()"
   ]
  },
  {
   "cell_type": "code",
   "execution_count": 34,
   "id": "f5e98a83-76bb-4fbc-83c2-56bf756e216e",
   "metadata": {},
   "outputs": [
    {
     "data": {
      "text/plain": [
       "size              0\n",
       "bath              0\n",
       "balcony           0\n",
       "price             0\n",
       "new_total_sqft    0\n",
       "dtype: int64"
      ]
     },
     "execution_count": 34,
     "metadata": {},
     "output_type": "execute_result"
    }
   ],
   "source": [
    "# No null values\n",
    "df.isnull().sum()"
   ]
  },
  {
   "cell_type": "code",
   "execution_count": 35,
   "id": "f4c70b80-8af2-4762-b0e0-9079d44d18a4",
   "metadata": {},
   "outputs": [
    {
     "data": {
      "text/html": [
       "<div>\n",
       "<style scoped>\n",
       "    .dataframe tbody tr th:only-of-type {\n",
       "        vertical-align: middle;\n",
       "    }\n",
       "\n",
       "    .dataframe tbody tr th {\n",
       "        vertical-align: top;\n",
       "    }\n",
       "\n",
       "    .dataframe thead th {\n",
       "        text-align: right;\n",
       "    }\n",
       "</style>\n",
       "<table border=\"1\" class=\"dataframe\">\n",
       "  <thead>\n",
       "    <tr style=\"text-align: right;\">\n",
       "      <th></th>\n",
       "      <th>size</th>\n",
       "      <th>bath</th>\n",
       "      <th>balcony</th>\n",
       "      <th>price</th>\n",
       "      <th>new_total_sqft</th>\n",
       "    </tr>\n",
       "  </thead>\n",
       "  <tbody>\n",
       "    <tr>\n",
       "      <th>3893</th>\n",
       "      <td>2.0</td>\n",
       "      <td>2.0</td>\n",
       "      <td>2.0</td>\n",
       "      <td>55.0</td>\n",
       "      <td>1200.0</td>\n",
       "    </tr>\n",
       "    <tr>\n",
       "      <th>4766</th>\n",
       "      <td>1.0</td>\n",
       "      <td>1.0</td>\n",
       "      <td>1.0</td>\n",
       "      <td>57.0</td>\n",
       "      <td>705.0</td>\n",
       "    </tr>\n",
       "    <tr>\n",
       "      <th>12163</th>\n",
       "      <td>1.0</td>\n",
       "      <td>1.0</td>\n",
       "      <td>1.0</td>\n",
       "      <td>33.0</td>\n",
       "      <td>602.0</td>\n",
       "    </tr>\n",
       "    <tr>\n",
       "      <th>10664</th>\n",
       "      <td>2.0</td>\n",
       "      <td>2.0</td>\n",
       "      <td>1.0</td>\n",
       "      <td>32.0</td>\n",
       "      <td>800.0</td>\n",
       "    </tr>\n",
       "    <tr>\n",
       "      <th>9572</th>\n",
       "      <td>2.0</td>\n",
       "      <td>2.0</td>\n",
       "      <td>0.0</td>\n",
       "      <td>32.0</td>\n",
       "      <td>1100.0</td>\n",
       "    </tr>\n",
       "  </tbody>\n",
       "</table>\n",
       "</div>"
      ],
      "text/plain": [
       "       size  bath  balcony  price  new_total_sqft\n",
       "3893    2.0   2.0      2.0   55.0          1200.0\n",
       "4766    1.0   1.0      1.0   57.0           705.0\n",
       "12163   1.0   1.0      1.0   33.0           602.0\n",
       "10664   2.0   2.0      1.0   32.0           800.0\n",
       "9572    2.0   2.0      0.0   32.0          1100.0"
      ]
     },
     "execution_count": 35,
     "metadata": {},
     "output_type": "execute_result"
    }
   ],
   "source": [
    "df.sample(5)\n"
   ]
  },
  {
   "cell_type": "code",
   "execution_count": 36,
   "id": "1b777292-05ee-476f-9c37-5c106d388114",
   "metadata": {},
   "outputs": [
    {
     "data": {
      "text/plain": [
       "0         39.07\n",
       "1        120.00\n",
       "2         62.00\n",
       "3         95.00\n",
       "4         51.00\n",
       "          ...  \n",
       "13315    231.00\n",
       "13316    400.00\n",
       "13317     60.00\n",
       "13318    488.00\n",
       "13319     17.00\n",
       "Name: price, Length: 13320, dtype: float64"
      ]
     },
     "execution_count": 36,
     "metadata": {},
     "output_type": "execute_result"
    }
   ],
   "source": [
    "x=df.drop(columns=['price'])\n",
    "y=df['price']\n",
    "y"
   ]
  },
  {
   "cell_type": "code",
   "execution_count": 37,
   "id": "f5bef864-28ed-4760-8805-e927ac2b139a",
   "metadata": {},
   "outputs": [
    {
     "data": {
      "text/plain": [
       "array([[2.000e+00, 2.000e+00, 1.000e+00, 1.056e+03],\n",
       "       [4.000e+00, 5.000e+00, 3.000e+00, 2.600e+03],\n",
       "       [3.000e+00, 2.000e+00, 3.000e+00, 1.440e+03],\n",
       "       ...,\n",
       "       [2.000e+00, 2.000e+00, 1.000e+00, 1.141e+03],\n",
       "       [4.000e+00, 4.000e+00, 1.000e+00, 4.689e+03],\n",
       "       [1.000e+00, 1.000e+00, 1.000e+00, 5.500e+02]])"
      ]
     },
     "execution_count": 37,
     "metadata": {},
     "output_type": "execute_result"
    }
   ],
   "source": [
    "x = np.array(x)\n",
    "x\n"
   ]
  },
  {
   "cell_type": "code",
   "execution_count": 38,
   "id": "d7873584-6a1f-42cb-aa58-8cfa4ab232bd",
   "metadata": {},
   "outputs": [],
   "source": [
    "X_train, X_test, y_train, y_test = train_test_split(x, y, test_size=0.2, random_state=42)\n",
    "\n",
    "scaler = StandardScaler()\n",
    "X_train = scaler.fit_transform(X_train)\n",
    "X_test = scaler.transform(X_test)"
   ]
  },
  {
   "cell_type": "code",
   "execution_count": 40,
   "id": "ed6e5468-7743-4337-ad1d-d76f5a8e5a6a",
   "metadata": {},
   "outputs": [],
   "source": [
    "\n",
    "#seqquential is used to arrange the input data data in a seq,\n",
    "#2nd line is used to receiving and managing the input data.\n",
    "model = keras.Sequential([\n",
    "    keras.layers.Input(shape=(4,)),        \n",
    "    keras.layers.Dense(64, activation='relu'),  \n",
    "    keras.layers.Dense(32, activation='relu'),  \n",
    "    keras.layers.Dense(1)                   \n",
    "])\n",
    "\n",
    "\n",
    "    \n"
   ]
  },
  {
   "cell_type": "code",
   "execution_count": 41,
   "id": "3380e229-7969-4785-ad5d-9ba6f3408cf6",
   "metadata": {},
   "outputs": [],
   "source": [
    "model.compile(optimizer='adam', loss='mean_squared_logarithmic_error')\n",
    "    "
   ]
  },
  {
   "cell_type": "code",
   "execution_count": 42,
   "id": "a82a5686-42dd-4cdb-80f3-fc9bed6976ba",
   "metadata": {},
   "outputs": [
    {
     "name": "stdout",
     "output_type": "stream",
     "text": [
      "Epoch 1/100\n",
      "267/267 [==============================] - 1s 2ms/step - loss: 6.9047 - val_loss: 2.1005\n",
      "Epoch 2/100\n",
      "267/267 [==============================] - 0s 2ms/step - loss: 1.1617 - val_loss: 0.6494\n",
      "Epoch 3/100\n",
      "267/267 [==============================] - 0s 1ms/step - loss: 0.4704 - val_loss: 0.3587\n",
      "Epoch 4/100\n",
      "267/267 [==============================] - 0s 1ms/step - loss: 0.3105 - val_loss: 0.2723\n",
      "Epoch 5/100\n",
      "267/267 [==============================] - 0s 1ms/step - loss: 0.2559 - val_loss: 0.2368\n",
      "Epoch 6/100\n",
      "267/267 [==============================] - 0s 2ms/step - loss: 0.2300 - val_loss: 0.2173\n",
      "Epoch 7/100\n",
      "267/267 [==============================] - 0s 2ms/step - loss: 0.2125 - val_loss: 0.2026\n",
      "Epoch 8/100\n",
      "267/267 [==============================] - 0s 2ms/step - loss: 0.1979 - val_loss: 0.1905\n",
      "Epoch 9/100\n",
      "267/267 [==============================] - 0s 2ms/step - loss: 0.1857 - val_loss: 0.1808\n",
      "Epoch 10/100\n",
      "267/267 [==============================] - 0s 2ms/step - loss: 0.1758 - val_loss: 0.1740\n",
      "Epoch 11/100\n",
      "267/267 [==============================] - 0s 1ms/step - loss: 0.1694 - val_loss: 0.1703\n",
      "Epoch 12/100\n",
      "267/267 [==============================] - 0s 1ms/step - loss: 0.1658 - val_loss: 0.1676\n",
      "Epoch 13/100\n",
      "267/267 [==============================] - 0s 2ms/step - loss: 0.1635 - val_loss: 0.1668\n",
      "Epoch 14/100\n",
      "267/267 [==============================] - 0s 2ms/step - loss: 0.1621 - val_loss: 0.1660\n",
      "Epoch 15/100\n",
      "267/267 [==============================] - 0s 1ms/step - loss: 0.1610 - val_loss: 0.1646\n",
      "Epoch 16/100\n",
      "267/267 [==============================] - 0s 1ms/step - loss: 0.1603 - val_loss: 0.1641\n",
      "Epoch 17/100\n",
      "267/267 [==============================] - 0s 2ms/step - loss: 0.1597 - val_loss: 0.1638\n",
      "Epoch 18/100\n",
      "267/267 [==============================] - 0s 1ms/step - loss: 0.1591 - val_loss: 0.1629\n",
      "Epoch 19/100\n",
      "267/267 [==============================] - 0s 1ms/step - loss: 0.1586 - val_loss: 0.1630\n",
      "Epoch 20/100\n",
      "267/267 [==============================] - 0s 1ms/step - loss: 0.1581 - val_loss: 0.1617\n",
      "Epoch 21/100\n",
      "267/267 [==============================] - 0s 1ms/step - loss: 0.1576 - val_loss: 0.1614\n",
      "Epoch 22/100\n",
      "267/267 [==============================] - 0s 1ms/step - loss: 0.1569 - val_loss: 0.1607\n",
      "Epoch 23/100\n",
      "267/267 [==============================] - 0s 2ms/step - loss: 0.1564 - val_loss: 0.1605\n",
      "Epoch 24/100\n",
      "267/267 [==============================] - 0s 2ms/step - loss: 0.1559 - val_loss: 0.1601\n",
      "Epoch 25/100\n",
      "267/267 [==============================] - 0s 2ms/step - loss: 0.1554 - val_loss: 0.1592\n",
      "Epoch 26/100\n",
      "267/267 [==============================] - 0s 2ms/step - loss: 0.1547 - val_loss: 0.1602\n",
      "Epoch 27/100\n",
      "267/267 [==============================] - 0s 2ms/step - loss: 0.1543 - val_loss: 0.1580\n",
      "Epoch 28/100\n",
      "267/267 [==============================] - 0s 1ms/step - loss: 0.1541 - val_loss: 0.1577\n",
      "Epoch 29/100\n",
      "267/267 [==============================] - 0s 2ms/step - loss: 0.1535 - val_loss: 0.1577\n",
      "Epoch 30/100\n",
      "267/267 [==============================] - 0s 2ms/step - loss: 0.1533 - val_loss: 0.1569\n",
      "Epoch 31/100\n",
      "267/267 [==============================] - 0s 2ms/step - loss: 0.1529 - val_loss: 0.1568\n",
      "Epoch 32/100\n",
      "267/267 [==============================] - 0s 2ms/step - loss: 0.1526 - val_loss: 0.1564\n",
      "Epoch 33/100\n",
      "267/267 [==============================] - 0s 1ms/step - loss: 0.1523 - val_loss: 0.1558\n",
      "Epoch 34/100\n",
      "267/267 [==============================] - 0s 1ms/step - loss: 0.1522 - val_loss: 0.1559\n",
      "Epoch 35/100\n",
      "267/267 [==============================] - 0s 1ms/step - loss: 0.1520 - val_loss: 0.1557\n",
      "Epoch 36/100\n",
      "267/267 [==============================] - 1s 2ms/step - loss: 0.1518 - val_loss: 0.1560\n",
      "Epoch 37/100\n",
      "267/267 [==============================] - 0s 2ms/step - loss: 0.1514 - val_loss: 0.1556\n",
      "Epoch 38/100\n",
      "267/267 [==============================] - 0s 1ms/step - loss: 0.1512 - val_loss: 0.1546\n",
      "Epoch 39/100\n",
      "267/267 [==============================] - 0s 1ms/step - loss: 0.1510 - val_loss: 0.1549\n",
      "Epoch 40/100\n",
      "267/267 [==============================] - 0s 1ms/step - loss: 0.1509 - val_loss: 0.1545\n",
      "Epoch 41/100\n",
      "267/267 [==============================] - 0s 2ms/step - loss: 0.1505 - val_loss: 0.1552\n",
      "Epoch 42/100\n",
      "267/267 [==============================] - 0s 2ms/step - loss: 0.1504 - val_loss: 0.1537\n",
      "Epoch 43/100\n",
      "267/267 [==============================] - 0s 1ms/step - loss: 0.1498 - val_loss: 0.1547\n",
      "Epoch 44/100\n",
      "267/267 [==============================] - 0s 2ms/step - loss: 0.1493 - val_loss: 0.1529\n",
      "Epoch 45/100\n",
      "267/267 [==============================] - 0s 2ms/step - loss: 0.1490 - val_loss: 0.1534\n",
      "Epoch 46/100\n",
      "267/267 [==============================] - 0s 1ms/step - loss: 0.1485 - val_loss: 0.1523\n",
      "Epoch 47/100\n",
      "267/267 [==============================] - 0s 2ms/step - loss: 0.1483 - val_loss: 0.1517\n",
      "Epoch 48/100\n",
      "267/267 [==============================] - 0s 2ms/step - loss: 0.1476 - val_loss: 0.1515\n",
      "Epoch 49/100\n",
      "267/267 [==============================] - 0s 1ms/step - loss: 0.1473 - val_loss: 0.1513\n",
      "Epoch 50/100\n",
      "267/267 [==============================] - 0s 2ms/step - loss: 0.1471 - val_loss: 0.1508\n",
      "Epoch 51/100\n",
      "267/267 [==============================] - 0s 2ms/step - loss: 0.1468 - val_loss: 0.1505\n",
      "Epoch 52/100\n",
      "267/267 [==============================] - 0s 2ms/step - loss: 0.1463 - val_loss: 0.1502\n",
      "Epoch 53/100\n",
      "267/267 [==============================] - 0s 2ms/step - loss: 0.1458 - val_loss: 0.1503\n",
      "Epoch 54/100\n",
      "267/267 [==============================] - 0s 1ms/step - loss: 0.1455 - val_loss: 0.1493\n",
      "Epoch 55/100\n",
      "267/267 [==============================] - 0s 1ms/step - loss: 0.1454 - val_loss: 0.1490\n",
      "Epoch 56/100\n",
      "267/267 [==============================] - 0s 1ms/step - loss: 0.1448 - val_loss: 0.1488\n",
      "Epoch 57/100\n",
      "267/267 [==============================] - 0s 2ms/step - loss: 0.1447 - val_loss: 0.1487\n",
      "Epoch 58/100\n",
      "267/267 [==============================] - 0s 2ms/step - loss: 0.1443 - val_loss: 0.1487\n",
      "Epoch 59/100\n",
      "267/267 [==============================] - 0s 2ms/step - loss: 0.1441 - val_loss: 0.1482\n",
      "Epoch 60/100\n",
      "267/267 [==============================] - 0s 2ms/step - loss: 0.1440 - val_loss: 0.1485\n",
      "Epoch 61/100\n",
      "267/267 [==============================] - 0s 2ms/step - loss: 0.1439 - val_loss: 0.1480\n",
      "Epoch 62/100\n",
      "267/267 [==============================] - 0s 2ms/step - loss: 0.1436 - val_loss: 0.1482\n",
      "Epoch 63/100\n",
      "267/267 [==============================] - 0s 2ms/step - loss: 0.1435 - val_loss: 0.1477\n",
      "Epoch 64/100\n",
      "267/267 [==============================] - 0s 2ms/step - loss: 0.1433 - val_loss: 0.1475\n",
      "Epoch 65/100\n",
      "267/267 [==============================] - 0s 1ms/step - loss: 0.1431 - val_loss: 0.1482\n",
      "Epoch 66/100\n",
      "267/267 [==============================] - 0s 1ms/step - loss: 0.1431 - val_loss: 0.1474\n",
      "Epoch 67/100\n",
      "267/267 [==============================] - 0s 1ms/step - loss: 0.1427 - val_loss: 0.1503\n",
      "Epoch 68/100\n",
      "267/267 [==============================] - 0s 1ms/step - loss: 0.1429 - val_loss: 0.1470\n",
      "Epoch 69/100\n",
      "267/267 [==============================] - 0s 1ms/step - loss: 0.1425 - val_loss: 0.1472\n",
      "Epoch 70/100\n",
      "267/267 [==============================] - 0s 2ms/step - loss: 0.1422 - val_loss: 0.1474\n",
      "Epoch 71/100\n",
      "267/267 [==============================] - 0s 2ms/step - loss: 0.1421 - val_loss: 0.1463\n",
      "Epoch 72/100\n",
      "267/267 [==============================] - 0s 2ms/step - loss: 0.1420 - val_loss: 0.1466\n",
      "Epoch 73/100\n",
      "267/267 [==============================] - 0s 2ms/step - loss: 0.1422 - val_loss: 0.1465\n",
      "Epoch 74/100\n",
      "267/267 [==============================] - 0s 1ms/step - loss: 0.1415 - val_loss: 0.1467\n",
      "Epoch 75/100\n",
      "267/267 [==============================] - 0s 1ms/step - loss: 0.1419 - val_loss: 0.1457\n",
      "Epoch 76/100\n",
      "267/267 [==============================] - 0s 1ms/step - loss: 0.1414 - val_loss: 0.1467\n",
      "Epoch 77/100\n",
      "267/267 [==============================] - 0s 1ms/step - loss: 0.1414 - val_loss: 0.1461\n",
      "Epoch 78/100\n",
      "267/267 [==============================] - 0s 1ms/step - loss: 0.1412 - val_loss: 0.1454\n",
      "Epoch 79/100\n",
      "267/267 [==============================] - 0s 1ms/step - loss: 0.1410 - val_loss: 0.1452\n",
      "Epoch 80/100\n",
      "267/267 [==============================] - 0s 1ms/step - loss: 0.1407 - val_loss: 0.1451\n",
      "Epoch 81/100\n",
      "267/267 [==============================] - 0s 1ms/step - loss: 0.1406 - val_loss: 0.1454\n",
      "Epoch 82/100\n",
      "267/267 [==============================] - 0s 1ms/step - loss: 0.1401 - val_loss: 0.1454\n",
      "Epoch 83/100\n",
      "267/267 [==============================] - 0s 2ms/step - loss: 0.1404 - val_loss: 0.1455\n",
      "Epoch 84/100\n",
      "267/267 [==============================] - 0s 1ms/step - loss: 0.1399 - val_loss: 0.1445\n",
      "Epoch 85/100\n",
      "267/267 [==============================] - 0s 1ms/step - loss: 0.1397 - val_loss: 0.1445\n",
      "Epoch 86/100\n",
      "267/267 [==============================] - 0s 1ms/step - loss: 0.1395 - val_loss: 0.1443\n",
      "Epoch 87/100\n",
      "267/267 [==============================] - 0s 1ms/step - loss: 0.1394 - val_loss: 0.1445\n",
      "Epoch 88/100\n",
      "267/267 [==============================] - 0s 2ms/step - loss: 0.1392 - val_loss: 0.1439\n",
      "Epoch 89/100\n",
      "267/267 [==============================] - 0s 1ms/step - loss: 0.1386 - val_loss: 0.1443\n",
      "Epoch 90/100\n",
      "267/267 [==============================] - 0s 1ms/step - loss: 0.1391 - val_loss: 0.1441\n",
      "Epoch 91/100\n",
      "267/267 [==============================] - 0s 2ms/step - loss: 0.1387 - val_loss: 0.1441\n",
      "Epoch 92/100\n",
      "267/267 [==============================] - 0s 2ms/step - loss: 0.1389 - val_loss: 0.1447\n",
      "Epoch 93/100\n",
      "267/267 [==============================] - 0s 1ms/step - loss: 0.1385 - val_loss: 0.1444\n",
      "Epoch 94/100\n",
      "267/267 [==============================] - 0s 2ms/step - loss: 0.1383 - val_loss: 0.1442\n",
      "Epoch 95/100\n",
      "267/267 [==============================] - 0s 1ms/step - loss: 0.1382 - val_loss: 0.1431\n",
      "Epoch 96/100\n",
      "267/267 [==============================] - 0s 1ms/step - loss: 0.1380 - val_loss: 0.1445\n",
      "Epoch 97/100\n",
      "267/267 [==============================] - 0s 1ms/step - loss: 0.1381 - val_loss: 0.1443\n",
      "Epoch 98/100\n",
      "267/267 [==============================] - 0s 1ms/step - loss: 0.1378 - val_loss: 0.1438\n",
      "Epoch 99/100\n",
      "267/267 [==============================] - 0s 1ms/step - loss: 0.1380 - val_loss: 0.1447\n",
      "Epoch 100/100\n",
      "267/267 [==============================] - 0s 1ms/step - loss: 0.1386 - val_loss: 0.1438\n"
     ]
    },
    {
     "data": {
      "text/plain": [
       "<keras.src.callbacks.History at 0x15653008ee0>"
      ]
     },
     "execution_count": 42,
     "metadata": {},
     "output_type": "execute_result"
    }
   ],
   "source": [
    "model.fit(X_train, y_train, epochs=100, batch_size=32, validation_split=0.2)\n"
   ]
  },
  {
   "cell_type": "code",
   "execution_count": 43,
   "id": "e27fcdf9-3720-4c34-8766-89061276b4e3",
   "metadata": {},
   "outputs": [
    {
     "name": "stdout",
     "output_type": "stream",
     "text": [
      "84/84 [==============================] - 0s 1ms/step - loss: 0.1360\n"
     ]
    },
    {
     "data": {
      "text/plain": [
       "0.1360033005475998"
      ]
     },
     "execution_count": 43,
     "metadata": {},
     "output_type": "execute_result"
    }
   ],
   "source": [
    "model.evaluate(X_test, y_test)\n",
    "\n"
   ]
  },
  {
   "cell_type": "code",
   "execution_count": 51,
   "id": "55dd99ae-e878-47b1-8cc9-81a4c081dcd5",
   "metadata": {},
   "outputs": [
    {
     "name": "stdin",
     "output_type": "stream",
     "text": [
      "enter no of bedrooms 5\n",
      "enter no. of bathrooms 6\n",
      "enter no. of balconys 2\n",
      "enter total sqft 2500\n"
     ]
    },
    {
     "name": "stdout",
     "output_type": "stream",
     "text": [
      "1/1 [==============================] - 0s 16ms/step\n",
      "Predicted Price: 206.98 lakhs\n"
     ]
    }
   ],
   "source": [
    "bed = float(input(\"enter no of bedrooms\"))\n",
    "bath = float(input(\"enter no. of bathrooms\"))\n",
    "balcony = float(input(\"enter no. of balconys\"))\n",
    "new_total_sqft = float(input(\"enter total sqft\"))\n",
    "\n",
    "\n",
    "new_data = np.array([[bed, bath,balcony, new_total_sqft]])  \n",
    "scaled_new_data = scaler.transform(new_data)\n",
    "predicted_price = model.predict(scaled_new_data)\n",
    "print(f\"Predicted Price: {predicted_price[0][0]:.2f} lakhs\")"
   ]
  },
  {
   "cell_type": "code",
   "execution_count": null,
   "id": "00e9980d-c0a7-4678-8ff3-592d82614c2e",
   "metadata": {},
   "outputs": [],
   "source": []
  },
  {
   "cell_type": "code",
   "execution_count": null,
   "id": "86c92007-1734-4de6-a4e0-76da9a870922",
   "metadata": {},
   "outputs": [],
   "source": []
  }
 ],
 "metadata": {
  "kernelspec": {
   "display_name": "Python 3 (ipykernel)",
   "language": "python",
   "name": "python3"
  },
  "language_info": {
   "codemirror_mode": {
    "name": "ipython",
    "version": 3
   },
   "file_extension": ".py",
   "mimetype": "text/x-python",
   "name": "python",
   "nbconvert_exporter": "python",
   "pygments_lexer": "ipython3",
   "version": "3.8.2"
  }
 },
 "nbformat": 4,
 "nbformat_minor": 5
}
